{
  "nbformat": 4,
  "nbformat_minor": 0,
  "metadata": {
    "colab": {
      "provenance": [],
      "authorship_tag": "ABX9TyNlzRnUScAobcAUXq0xNj6C",
      "include_colab_link": true
    },
    "kernelspec": {
      "name": "python3",
      "display_name": "Python 3"
    },
    "language_info": {
      "name": "python"
    }
  },
  "cells": [
    {
      "cell_type": "markdown",
      "metadata": {
        "id": "view-in-github",
        "colab_type": "text"
      },
      "source": [
        "<a href=\"https://colab.research.google.com/github/mimja440/psy-kontra-koty/blob/main/Untitled0.ipynb\" target=\"_parent\"><img src=\"https://colab.research.google.com/assets/colab-badge.svg\" alt=\"Open In Colab\"/></a>"
      ]
    },
    {
      "cell_type": "code",
      "execution_count": null,
      "metadata": {
        "id": "nm4FI89jkiMT"
      },
      "outputs": [],
      "source": [
        "# Внимание: Психонейронаучный эксперимент\n",
        "\n",
        "Этот блокнот посвящён статье:\n",
        "[https://mimja.hashnode.dev/psy-kontra-koty-odwieczna-debata-w-swiecie-neuronauki-i-psychologii-behawioralnej](https://mimja.hashnode.dev/psy-kontra-koty-odwieczna-debata-w-swiecie-neuronauki-i-psychologii-behawioralnej)\n",
        "\n",
        "Мы анализируем поведение собак и кошек в контексте нейропсихологии.\n"
      ]
    },
    {
      "cell_type": "code",
      "source": [],
      "metadata": {
        "id": "nFnJr3cvkj22"
      },
      "execution_count": null,
      "outputs": []
    }
  ]
}